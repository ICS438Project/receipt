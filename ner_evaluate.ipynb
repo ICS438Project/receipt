{
 "cells": [
  {
   "cell_type": "code",
   "execution_count": 24,
   "id": "f37afca8",
   "metadata": {
    "scrolled": true
   },
   "outputs": [],
   "source": [
    "#!pip install langchain OpenAI"
   ]
  },
  {
   "cell_type": "code",
   "execution_count": 26,
   "id": "4959b784",
   "metadata": {
    "scrolled": true
   },
   "outputs": [],
   "source": [
    "from langchain.llms import OpenAI\n",
    "import json"
   ]
  },
  {
   "cell_type": "markdown",
   "id": "4d156a54",
   "metadata": {},
   "source": [
    "# 1) Convert Text to Structured Data\n",
    "\n",
    "* Making sure it generates correct data (use asserts to test all of this)\n",
    "* Making sure you handle edge cases (ex: blank fields, fields not in correct datatype, dollar sign in total, phone number larger than 10 digits)\n",
    "* Language model returning text or invalid json (if not using methos used in class)"
   ]
  },
  {
   "cell_type": "code",
   "execution_count": 17,
   "id": "11da93e5",
   "metadata": {},
   "outputs": [],
   "source": [
    "openai_api_key = ''"
   ]
  },
  {
   "cell_type": "code",
   "execution_count": 3,
   "id": "361e953e",
   "metadata": {},
   "outputs": [],
   "source": [
    "receipt_text = \"\"\"Marley's Shop\n",
    "123 Long Rd\n",
    "Kailua, HI 67530\n",
    "(808) 555-1234\n",
    "CASHIER: JOHN\n",
    "REGISTER #: 6\n",
    "04/12/2023\n",
    "Transaction ID: 5769009\n",
    "PRICE   QTY  TOTAL\n",
    "APPLES (1 lb)\n",
    "2.99 2 5.98  1001\n",
    "-1.00  999\n",
    "Choco Dream Cookies\n",
    "7.59 1 7.59   1001\n",
    "SUBTOTAL\n",
    "13.57\n",
    "SALES TAX 8.5%\n",
    "1.15\n",
    "TOTAL\n",
    "-14.72\n",
    "VISA CARD            14.72\n",
    "CARD#: ************1234\n",
    "REFERENCE#: 6789\n",
    "THANK YOU FOR SHOPPING WITH US!\n",
    "\"\"\""
   ]
  },
  {
   "cell_type": "code",
   "execution_count": 47,
   "id": "8eb751f2",
   "metadata": {},
   "outputs": [],
   "source": [
    "def generate_response(input_text):\n",
    "  llm = OpenAI(model=\"gpt-3.5-turbo-instruct\", temperature=0, openai_api_key=openai_api_key)\n",
    "  return llm(input_text)"
   ]
  },
  {
   "cell_type": "code",
   "execution_count": 54,
   "id": "498a542a",
   "metadata": {},
   "outputs": [],
   "source": [
    "prompt = '''fill all info into this json data structure, and correct all the spelling\n",
    "example: \"\"\"Marley's Shop\n",
    "123 Long Rd\n",
    "Kailua, HI 67530\n",
    "(808) 555-1234\n",
    "CASHIER: JOHN\n",
    "REGISTER #: 6\n",
    "04/12/2023\n",
    "Transaction ID: 5769009\n",
    "PRICE   QTY  TOTAL\n",
    "APPLES (1 lb)\n",
    "2.99 2 5.98  1001\n",
    "-1.00  999\n",
    "Choco Dream Cookies\n",
    "7.59 1 7.59   1001\n",
    "SUBTOTAL\n",
    "13.57\n",
    "SALES TAX 8.5%\n",
    "1.15\n",
    "TOTAL\n",
    "-14.72\n",
    "VISA CARD            14.72\n",
    "CARD#: ************1234\n",
    "REFERENCE#: 6789\n",
    "THANK YOU FOR SHOPPING WITH US!\n",
    "\"\"\"\n",
    "\n",
    "should get:\n",
    "{\n",
    "  \"ReceiptInfo\": {\n",
    "    \"merchant\": \"Marley's Shop\",\n",
    "    \"address\": \"123 Long Rd\",\n",
    "    \"city\": \"Kailua\",\n",
    "    \"state\": \"HI\",\n",
    "    \"phoneNumber\": \"(808) 555-1234\",\n",
    "    \"tax\": 1.15,\n",
    "    \"total\": 14.72,\n",
    "    \"receiptDate\": \"04/12/2023\",\n",
    "    \"receiptTime\": \"Transaction ID: 5769009\",\n",
    "    \"ITEMS\": [\n",
    "      {\n",
    "        \"description\": \"APPLES (1 lb)\",\n",
    "        \"quantity\": 2,\n",
    "        \"unitPrice\": 2.99,\n",
    "        \"totalPrice\": 5.98,\n",
    "        \"discountAmount\": 1.00\n",
    "      },\n",
    "      {\n",
    "        \"description\": \"Choco Dream Cookies\",\n",
    "        \"quantity\": 1,\n",
    "        \"unitPrice\": 7.59,\n",
    "        \"totalPrice\": 7.59,\n",
    "        \"discountAmount\": 0\n",
    "      }\n",
    "    ]\n",
    "  }\n",
    "}\n",
    "'''\n",
    "structure = '''{\n",
    "  \"ReceiptInfo\": {\n",
    "    \"merchant\": \"(string value)\",\n",
    "    \"address\": \"(string value)\",\n",
    "    \"city\": \"(string value)\",\n",
    "    \"state\": \"(string value)\",\n",
    "    \"phoneNumber\": \"(string value)\",\n",
    "    \"tax\": \"(float value)\",\n",
    "    \"total\": \"(float value)\",\n",
    "    \"receiptDate\": \"(string value)\",\n",
    "    \"receiptTime\": \"(string value)\",\n",
    "    \"ITEMS\": [\n",
    "      {\n",
    "        \"description\": \"(string value)\",\n",
    "        \"quantity\": \"(integer value)\",\n",
    "        \"unitPrice\": \"(float value)\",\n",
    "        \"totalPrice\": \"(float value)\",\n",
    "        \"discountAmount\": \"(float value)\"\n",
    "      }, ...\n",
    "    ]\n",
    "  }\n",
    "}\n",
    "'''"
   ]
  },
  {
   "cell_type": "code",
   "execution_count": 55,
   "id": "2e45691f",
   "metadata": {
    "scrolled": true
   },
   "outputs": [],
   "source": [
    "entities = generate_response(prompt + receipt_text + structure)"
   ]
  },
  {
   "cell_type": "code",
   "execution_count": 57,
   "id": "b8101d6c",
   "metadata": {},
   "outputs": [
    {
     "name": "stdout",
     "output_type": "stream",
     "text": [
      "{\n",
      "  \"ReceiptInfo\": {\n",
      "    \"merchant\": \"Marley's Shop\",\n",
      "    \"address\": \"123 Long Rd\",\n",
      "    \"city\": \"Kailua\",\n",
      "    \"state\": \"HI\",\n",
      "    \"phoneNumber\": \"(808) 555-1234\",\n",
      "    \"tax\": 1.15,\n",
      "    \"total\": 14.72,\n",
      "    \"receiptDate\": \"04/12/2023\",\n",
      "    \"receiptTime\": \"Transaction ID: 5769009\",\n",
      "    \"ITEMS\": [\n",
      "      {\n",
      "        \"description\": \"APPLES (1 lb)\",\n",
      "        \"quantity\": 2,\n",
      "        \"unitPrice\": 2.99,\n",
      "        \"totalPrice\": 5.98,\n",
      "        \"discountAmount\": 1.00\n",
      "      },\n",
      "      {\n",
      "        \"description\": \"Choco Dream Cookies\",\n",
      "        \"quantity\": 1,\n",
      "        \"unitPrice\": 7.59,\n",
      "        \"totalPrice\": 7.59,\n",
      "        \"discountAmount\": 0\n",
      "      }\n",
      "    ]\n",
      "  }\n",
      "}\n"
     ]
    }
   ],
   "source": [
    "print(entities)"
   ]
  },
  {
   "cell_type": "code",
   "execution_count": 27,
   "id": "77da4dea",
   "metadata": {},
   "outputs": [
    {
     "data": {
      "text/plain": [
       "dict"
      ]
     },
     "execution_count": 27,
     "metadata": {},
     "output_type": "execute_result"
    }
   ],
   "source": [
    "type(json.loads(entities))"
   ]
  },
  {
   "cell_type": "code",
   "execution_count": 28,
   "id": "ac8cf0ec",
   "metadata": {},
   "outputs": [
    {
     "name": "stdout",
     "output_type": "stream",
     "text": [
      "[\n",
      "  {\n",
      "    \"start\": 0,\n",
      "    \"end\": 13,\n",
      "    \"label\": \"MERCHANT\"\n",
      "  },\n",
      "  {\n",
      "    \"start\": 14,\n",
      "    \"end\": 25,\n",
      "    \"label\": \"ADDRESS\"\n",
      "  },\n",
      "  {\n",
      "    \"start\": 26,\n",
      "    \"end\": 32,\n",
      "    \"label\": \"CITY\"\n",
      "  },\n",
      "  {\n",
      "    \"start\": 34,\n",
      "    \"end\": 36,\n",
      "    \"label\": \"STATE\"\n",
      "  },\n",
      "  {\n",
      "    \"start\": 43,\n",
      "    \"end\": 57,\n",
      "    \"label\": \"PHONE\"\n",
      "  },\n",
      "  {\n",
      "    \"start\": 252,\n",
      "    \"end\": 256,\n",
      "    \"label\": \"TAX\"\n",
      "  },\n",
      "  {\n",
      "    \"start\": 264,\n",
      "    \"end\": 269,\n",
      "    \"label\": \"TOTAL\"\n",
      "  },\n",
      "  {\n",
      "    \"start\": 86,\n",
      "    \"end\": 96,\n",
      "    \"label\": \"DATE\"\n",
      "  },\n",
      "  {\n",
      "    \"start\": [\n",
      "      140,\n",
      "      153\n",
      "    ],\n",
      "    \"end\": \"APPLES (1 lb)\",\n",
      "    \"label\": \"ITEM_DESC\"\n",
      "  },\n",
      "  {\n",
      "    \"start\": [\n",
      "      15,\n",
      "      16\n",
      "    ],\n",
      "    \"end\": \"2\",\n",
      "    \"label\": \"QTY\"\n",
      "  },\n",
      "  {\n",
      "    \"start\": [\n",
      "      154,\n",
      "      158\n",
      "    ],\n",
      "    \"end\": \"2.99\",\n",
      "    \"label\": \"UNIT_PRICE\"\n",
      "  },\n",
      "  {\n",
      "    \"start\": [\n",
      "      161,\n",
      "      165\n",
      "    ],\n",
      "    \"end\": \"5.98\",\n",
      "    \"label\": \"TOTAL_PRICE\"\n",
      "  },\n",
      "  {\n",
      "    \"start\": [\n",
      "      173,\n",
      "      176\n",
      "    ],\n",
      "    \"end\": \"1.0\",\n",
      "    \"label\": \"DISCOUNT\"\n",
      "  },\n",
      "  {\n",
      "    \"start\": [\n",
      "      183,\n",
      "      202\n",
      "    ],\n",
      "    \"end\": \"Choco Dream Cookies\",\n",
      "    \"label\": \"ITEM_DESC\"\n",
      "  },\n",
      "  {\n",
      "    \"start\": [\n",
      "      14,\n",
      "      15\n",
      "    ],\n",
      "    \"end\": \"1\",\n",
      "    \"label\": \"QTY\"\n",
      "  },\n",
      "  {\n",
      "    \"start\": [\n",
      "      203,\n",
      "      207\n",
      "    ],\n",
      "    \"end\": \"7.59\",\n",
      "    \"label\": \"UNIT_PRICE\"\n",
      "  },\n",
      "  {\n",
      "    \"start\": [\n",
      "      203,\n",
      "      207\n",
      "    ],\n",
      "    \"end\": \"7.59\",\n",
      "    \"label\": \"TOTAL_PRICE\"\n",
      "  }\n",
      "]\n"
     ]
    }
   ],
   "source": [
    "import json\n",
    "\n",
    "def find_span(text, entity_text):\n",
    "    start = text.find(entity_text)\n",
    "    if start == -1:\n",
    "        return None\n",
    "    end = start + len(entity_text)\n",
    "    return (start, end), entity_text\n",
    "\n",
    "def convert_to_prodigy_spans(receipt_text, entities):\n",
    "    text_vals = []\n",
    "    entities = json.loads(entities)\n",
    "    prodigy_data = []\n",
    "    receipt_info = entities[\"ReceiptInfo\"]\n",
    "\n",
    "    for label, entity_text in [\n",
    "        (\"MERCHANT\", receipt_info[\"merchant\"]),\n",
    "        (\"ADDRESS\", receipt_info[\"address\"]),\n",
    "        (\"CITY\", receipt_info[\"city\"]),\n",
    "        (\"STATE\", receipt_info[\"state\"]),\n",
    "        (\"PHONE\", receipt_info[\"phoneNumber\"]),\n",
    "        (\"TAX\", str(receipt_info[\"tax\"])),\n",
    "        (\"TOTAL\", str(receipt_info[\"total\"])),\n",
    "        (\"DATE\", receipt_info[\"receiptDate\"])\n",
    "    ]:\n",
    "        span, text = find_span(receipt_text, entity_text)\n",
    "        text_vals.append(text)\n",
    "        if span:\n",
    "            start, end = span\n",
    "            prodigy_data.append({\"start\": start, \"end\": end, \"label\": label})\n",
    "\n",
    "    # Process item-level entities\n",
    "    for item in receipt_info[\"ITEMS\"]:\n",
    "        for label, entity_text in [\n",
    "            (\"ITEM_DESC\", item[\"description\"]),\n",
    "            (\"QTY\", str(item[\"quantity\"])),\n",
    "            (\"UNIT_PRICE\", str(item[\"unitPrice\"])),\n",
    "            (\"TOTAL_PRICE\", str(item[\"totalPrice\"])),\n",
    "            (\"DISCOUNT\", str(item.get(\"discountAmount\", \"\")))  # Discount might not always be present\n",
    "        ]:\n",
    "            if entity_text:  # Check if the entity text is not empty\n",
    "                span = find_span(receipt_text, entity_text)\n",
    "                if span:\n",
    "                    start, end = span\n",
    "                    prodigy_data.append({\"start\": start, \"end\": end, \"label\": label})\n",
    "\n",
    "    return prodigy_data, text_vals\n",
    "\n",
    "# Example usage\n",
    "\n",
    "\n",
    "prodigy_spans_true, text_vals = convert_to_prodigy_spans(receipt_text, entities)\n",
    "print(json.dumps(prodigy_spans_true, indent=2))\n"
   ]
  },
  {
   "cell_type": "markdown",
   "id": "2131a903",
   "metadata": {},
   "source": [
    "# 2) Identify category for vendor"
   ]
  },
  {
   "cell_type": "code",
   "execution_count": null,
   "id": "3015350c",
   "metadata": {},
   "outputs": [],
   "source": [
    "def validateInput():\n",
    "    pass"
   ]
  },
  {
   "cell_type": "code",
   "execution_count": null,
   "id": "23f7b691",
   "metadata": {},
   "outputs": [],
   "source": [
    "def convertToEmbeddings():\n",
    "    pass"
   ]
  },
  {
   "cell_type": "code",
   "execution_count": null,
   "id": "28d24ee1",
   "metadata": {},
   "outputs": [],
   "source": [
    "def searchInDatabase():\n",
    "    # create database and ask ChatGPT to dream\n",
    "    # ex: \"please gnerate 10 item descriptions that should be similar to what would be seen in a recipt. Here are examples\"\n",
    "    pass"
   ]
  },
  {
   "cell_type": "code",
   "execution_count": null,
   "id": "12d5373b",
   "metadata": {},
   "outputs": [],
   "source": [
    "def takeMajority():\n",
    "    pass"
   ]
  },
  {
   "cell_type": "code",
   "execution_count": null,
   "id": "ffca66e2",
   "metadata": {},
   "outputs": [],
   "source": [
    "categories = [\"Grocery/Supermarkets\", \"Restaurants/Food Services\", \"Clothing/Apparel\", \"Health/Beauty\", \"Electronics/Appliances\", \"Home/Garden\", \"Entertainment/Leisure\"]\n",
    "\n",
    "def getVendorCategory(listOfItems, Title):\n",
    "    #validateInput()\n",
    "    #convertToEmbeddings()\n",
    "    #seachInDatabase()\n",
    "    #takeMajority()\n",
    "    pass"
   ]
  },
  {
   "cell_type": "markdown",
   "id": "4ee9f7ca",
   "metadata": {},
   "source": [
    "# 3) Same thing as 2 but you have to define the categories\n",
    "\n",
    "* Use title of item plus something else (ex: category of vendor)"
   ]
  },
  {
   "cell_type": "code",
   "execution_count": null,
   "id": "2d77463c",
   "metadata": {},
   "outputs": [],
   "source": [
    "categories = []\n",
    "\n",
    "def getVendorCategory(listOfItems, Title):\n",
    "    #validateInput()\n",
    "    #convertToEmbeddings()\n",
    "    #seachInDatabase()\n",
    "    #takeMajority()\n",
    "    pass"
   ]
  },
  {
   "cell_type": "markdown",
   "id": "0043cd01",
   "metadata": {},
   "source": [
    "# 4) Create tests in python\n",
    "\n",
    "* Functions that just test one test and shows that tests passed/failed\n",
    "* At the end shows how many passed and how many failed\n",
    "\n",
    "- Example:\n",
    "\n",
    "     - handleVendor.py\n",
    "     - all test functions tested in testHandleCategory.py (test all the functions in hangleVendor.py) asserts at the end of each test function\n",
    "\n",
    "     - Fixtures in test file: testing all of the things that are needed for the code to run\n",
    "\n",
    "- For part 2, test for:\n",
    "    - If 7 categories, one of the 7 categories and one of the 7 categories\n",
    "    - Edge cases (ex: error in formatting, must be string in list of possible categories)"
   ]
  },
  {
   "cell_type": "code",
   "execution_count": null,
   "id": "466de911",
   "metadata": {},
   "outputs": [],
   "source": []
  }
 ],
 "metadata": {
  "kernelspec": {
   "display_name": "Python 3 (ipykernel)",
   "language": "python",
   "name": "python3"
  },
  "language_info": {
   "codemirror_mode": {
    "name": "ipython",
    "version": 3
   },
   "file_extension": ".py",
   "mimetype": "text/x-python",
   "name": "python",
   "nbconvert_exporter": "python",
   "pygments_lexer": "ipython3",
   "version": "3.11.6"
  }
 },
 "nbformat": 4,
 "nbformat_minor": 5
}
